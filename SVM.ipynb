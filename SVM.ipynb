{
 "cells": [
  {
   "cell_type": "code",
   "execution_count": 39,
   "id": "initial_id",
   "metadata": {
    "collapsed": true,
    "ExecuteTime": {
     "end_time": "2025-05-18T19:30:15.923425Z",
     "start_time": "2025-05-18T19:30:15.900679Z"
    }
   },
   "outputs": [],
   "source": [
    "import numpy as np\n",
    "import pandas as pd\n",
    "import matplotlib.pyplot as plt\n",
    "import seaborn as sns\n",
    "from sklearn.feature_extraction.text import TfidfVectorizer\n",
    "from sklearn.svm import LinearSVC\n",
    "from sklearn.metrics import  precision_score, recall_score, f1_score, accuracy_score\n",
    "from sklearn.pipeline import Pipeline\n",
    "from sklearn.model_selection import StratifiedKFold\n",
    "from sklearn.metrics import confusion_matrix"
   ]
  },
  {
   "cell_type": "code",
   "outputs": [],
   "source": [
    "sentiment_dataset = pd.read_csv(\"Sentiment140_filtered.csv\")"
   ],
   "metadata": {
    "collapsed": false,
    "ExecuteTime": {
     "end_time": "2025-05-18T19:30:16.457286Z",
     "start_time": "2025-05-18T19:30:15.926501Z"
    }
   },
   "id": "4ca8407e36490c18",
   "execution_count": 40
  },
  {
   "cell_type": "code",
   "outputs": [
    {
     "data": {
      "text/plain": "   Unnamed: 0  target         ids                          date      flag  \\\n0         750       0  1467998601  Mon Apr 06 23:11:18 PDT 2009  NO_QUERY   \n1      766711       0  2300049112  Tue Jun 23 13:40:12 PDT 2009  NO_QUERY   \n2      285055       0  1993474319  Mon Jun 01 10:26:09 PDT 2009  NO_QUERY   \n3      705995       0  2256551006  Sat Jun 20 12:56:51 PDT 2009  NO_QUERY   \n4      379611       0  2052381070  Sat Jun 06 00:32:23 PDT 2009  NO_QUERY   \n\n             user                                               text  \\\n0         Young_J  I'm off too bed. I gotta wake up hella early t...   \n1   dougnawoschik  I havent been able to listen to it yet  My spe...   \n2        thireven  now remembers why solving a relatively big equ...   \n3  taracollins086                           Ate too much, feel sick    \n4  Portablemonkey  Tried to purchase a parked domain through GoDa...   \n\n   hate_pred  \n0          1  \n1          1  \n2          1  \n3          1  \n4          1  ",
      "text/html": "<div>\n<style scoped>\n    .dataframe tbody tr th:only-of-type {\n        vertical-align: middle;\n    }\n\n    .dataframe tbody tr th {\n        vertical-align: top;\n    }\n\n    .dataframe thead th {\n        text-align: right;\n    }\n</style>\n<table border=\"1\" class=\"dataframe\">\n  <thead>\n    <tr style=\"text-align: right;\">\n      <th></th>\n      <th>Unnamed: 0</th>\n      <th>target</th>\n      <th>ids</th>\n      <th>date</th>\n      <th>flag</th>\n      <th>user</th>\n      <th>text</th>\n      <th>hate_pred</th>\n    </tr>\n  </thead>\n  <tbody>\n    <tr>\n      <th>0</th>\n      <td>750</td>\n      <td>0</td>\n      <td>1467998601</td>\n      <td>Mon Apr 06 23:11:18 PDT 2009</td>\n      <td>NO_QUERY</td>\n      <td>Young_J</td>\n      <td>I'm off too bed. I gotta wake up hella early t...</td>\n      <td>1</td>\n    </tr>\n    <tr>\n      <th>1</th>\n      <td>766711</td>\n      <td>0</td>\n      <td>2300049112</td>\n      <td>Tue Jun 23 13:40:12 PDT 2009</td>\n      <td>NO_QUERY</td>\n      <td>dougnawoschik</td>\n      <td>I havent been able to listen to it yet  My spe...</td>\n      <td>1</td>\n    </tr>\n    <tr>\n      <th>2</th>\n      <td>285055</td>\n      <td>0</td>\n      <td>1993474319</td>\n      <td>Mon Jun 01 10:26:09 PDT 2009</td>\n      <td>NO_QUERY</td>\n      <td>thireven</td>\n      <td>now remembers why solving a relatively big equ...</td>\n      <td>1</td>\n    </tr>\n    <tr>\n      <th>3</th>\n      <td>705995</td>\n      <td>0</td>\n      <td>2256551006</td>\n      <td>Sat Jun 20 12:56:51 PDT 2009</td>\n      <td>NO_QUERY</td>\n      <td>taracollins086</td>\n      <td>Ate too much, feel sick</td>\n      <td>1</td>\n    </tr>\n    <tr>\n      <th>4</th>\n      <td>379611</td>\n      <td>0</td>\n      <td>2052381070</td>\n      <td>Sat Jun 06 00:32:23 PDT 2009</td>\n      <td>NO_QUERY</td>\n      <td>Portablemonkey</td>\n      <td>Tried to purchase a parked domain through GoDa...</td>\n      <td>1</td>\n    </tr>\n  </tbody>\n</table>\n</div>"
     },
     "execution_count": 41,
     "metadata": {},
     "output_type": "execute_result"
    }
   ],
   "source": [
    "sentiment_dataset.head()"
   ],
   "metadata": {
    "collapsed": false,
    "ExecuteTime": {
     "end_time": "2025-05-18T19:30:16.488902Z",
     "start_time": "2025-05-18T19:30:16.459284Z"
    }
   },
   "id": "2f1dd2dbdf041af7",
   "execution_count": 41
  },
  {
   "cell_type": "code",
   "outputs": [
    {
     "data": {
      "text/plain": "Unnamed: 0    0\ntarget        0\nids           0\ndate          0\nflag          0\nuser          0\ntext          0\nhate_pred     0\ndtype: int64"
     },
     "execution_count": 42,
     "metadata": {},
     "output_type": "execute_result"
    }
   ],
   "source": [
    "sentiment_dataset.isnull().sum()"
   ],
   "metadata": {
    "collapsed": false,
    "ExecuteTime": {
     "end_time": "2025-05-18T19:30:16.527158Z",
     "start_time": "2025-05-18T19:30:16.490903Z"
    }
   },
   "id": "cd33133fa12ada83",
   "execution_count": 42
  },
  {
   "cell_type": "code",
   "outputs": [
    {
     "data": {
      "text/plain": "<seaborn.axisgrid.FacetGrid at 0x1d248965c10>"
     },
     "execution_count": 43,
     "metadata": {},
     "output_type": "execute_result"
    },
    {
     "data": {
      "text/plain": "<Figure size 511.111x500 with 1 Axes>",
      "image/png": "[encoded data removed]"
     },
     "metadata": {},
     "output_type": "display_data"
    }
   ],
   "source": [
    "sns.catplot(x = 'target', data = sentiment_dataset, kind = 'count')\n"
   ],
   "metadata": {
    "collapsed": false,
    "ExecuteTime": {
     "end_time": "2025-05-18T19:30:17.137223Z",
     "start_time": "2025-05-18T19:30:16.529161Z"
    }
   },
   "id": "208569a0a3f56969",
   "execution_count": 43
  },
  {
   "cell_type": "code",
   "outputs": [],
   "source": [
    "hateful_dataset = pd.read_csv(\"hateful_sentiment.csv\")"
   ],
   "metadata": {
    "collapsed": false,
    "ExecuteTime": {
     "end_time": "2025-05-18T19:30:17.425495Z",
     "start_time": "2025-05-18T19:30:17.139406Z"
    }
   },
   "id": "5f9664a800f1f89",
   "execution_count": 44
  },
  {
   "cell_type": "code",
   "outputs": [
    {
     "data": {
      "text/plain": "                                             Content  Label  \\\n0  retweet to the rejects who constantly call my ...      1   \n1  i purpose that whatever attack everyone who ca...      1   \n2  are you fucking kidding me you deserve to fuck...      1   \n3  retweet i am not racist and i am not sexist i ...      1   \n4  just imagine if the two million spent on the s...      1   \n\n                                         Content_int  \n0  [146715, 1761, 7, 3, 22587, 67, 6768, 472, 129...  \n1  [146715, 80, 4226, 28, 220, 1347, 1568, 67, 65...  \n2  [146715, 154, 26, 69, 1361, 78, 26, 6610, 7, 6...  \n3  [146715, 1761, 80, 81, 76, 1723, 111, 80, 81, ...  \n4  [146715, 14, 925, 204, 3, 672, 462, 5271, 9, 3...  ",
      "text/html": "<div>\n<style scoped>\n    .dataframe tbody tr th:only-of-type {\n        vertical-align: middle;\n    }\n\n    .dataframe tbody tr th {\n        vertical-align: top;\n    }\n\n    .dataframe thead th {\n        text-align: right;\n    }\n</style>\n<table border=\"1\" class=\"dataframe\">\n  <thead>\n    <tr style=\"text-align: right;\">\n      <th></th>\n      <th>Content</th>\n      <th>Label</th>\n      <th>Content_int</th>\n    </tr>\n  </thead>\n  <tbody>\n    <tr>\n      <th>0</th>\n      <td>retweet to the rejects who constantly call my ...</td>\n      <td>1</td>\n      <td>[146715, 1761, 7, 3, 22587, 67, 6768, 472, 129...</td>\n    </tr>\n    <tr>\n      <th>1</th>\n      <td>i purpose that whatever attack everyone who ca...</td>\n      <td>1</td>\n      <td>[146715, 80, 4226, 28, 220, 1347, 1568, 67, 65...</td>\n    </tr>\n    <tr>\n      <th>2</th>\n      <td>are you fucking kidding me you deserve to fuck...</td>\n      <td>1</td>\n      <td>[146715, 154, 26, 69, 1361, 78, 26, 6610, 7, 6...</td>\n    </tr>\n    <tr>\n      <th>3</th>\n      <td>retweet i am not racist and i am not sexist i ...</td>\n      <td>1</td>\n      <td>[146715, 1761, 80, 81, 76, 1723, 111, 80, 81, ...</td>\n    </tr>\n    <tr>\n      <th>4</th>\n      <td>just imagine if the two million spent on the s...</td>\n      <td>1</td>\n      <td>[146715, 14, 925, 204, 3, 672, 462, 5271, 9, 3...</td>\n    </tr>\n  </tbody>\n</table>\n</div>"
     },
     "execution_count": 45,
     "metadata": {},
     "output_type": "execute_result"
    }
   ],
   "source": [
    "hateful_dataset.head()"
   ],
   "metadata": {
    "collapsed": false,
    "ExecuteTime": {
     "end_time": "2025-05-18T19:30:17.435676Z",
     "start_time": "2025-05-18T19:30:17.426475Z"
    }
   },
   "id": "dca7580ded022803",
   "execution_count": 45
  },
  {
   "cell_type": "code",
   "outputs": [
    {
     "data": {
      "text/plain": "                                                text  target\n0  retweet to the rejects who constantly call my ...       2\n1  i purpose that whatever attack everyone who ca...       2\n2  are you fucking kidding me you deserve to fuck...       2\n3  retweet i am not racist and i am not sexist i ...       2\n4  just imagine if the two million spent on the s...       2",
      "text/html": "<div>\n<style scoped>\n    .dataframe tbody tr th:only-of-type {\n        vertical-align: middle;\n    }\n\n    .dataframe tbody tr th {\n        vertical-align: top;\n    }\n\n    .dataframe thead th {\n        text-align: right;\n    }\n</style>\n<table border=\"1\" class=\"dataframe\">\n  <thead>\n    <tr style=\"text-align: right;\">\n      <th></th>\n      <th>text</th>\n      <th>target</th>\n    </tr>\n  </thead>\n  <tbody>\n    <tr>\n      <th>0</th>\n      <td>retweet to the rejects who constantly call my ...</td>\n      <td>2</td>\n    </tr>\n    <tr>\n      <th>1</th>\n      <td>i purpose that whatever attack everyone who ca...</td>\n      <td>2</td>\n    </tr>\n    <tr>\n      <th>2</th>\n      <td>are you fucking kidding me you deserve to fuck...</td>\n      <td>2</td>\n    </tr>\n    <tr>\n      <th>3</th>\n      <td>retweet i am not racist and i am not sexist i ...</td>\n      <td>2</td>\n    </tr>\n    <tr>\n      <th>4</th>\n      <td>just imagine if the two million spent on the s...</td>\n      <td>2</td>\n    </tr>\n  </tbody>\n</table>\n</div>"
     },
     "execution_count": 46,
     "metadata": {},
     "output_type": "execute_result"
    }
   ],
   "source": [
    "hateful_dataset = hateful_dataset[[\"Content\", \"Label\"]]\n",
    "hateful_dataset = hateful_dataset.rename(columns = {\"Content\": \"text\", \"Label\": \"target\"})\n",
    "hateful_dataset[\"target\"] = 2\n",
    "\n",
    "hateful_dataset.head()"
   ],
   "metadata": {
    "collapsed": false,
    "ExecuteTime": {
     "end_time": "2025-05-18T19:30:17.452630Z",
     "start_time": "2025-05-18T19:30:17.437677Z"
    }
   },
   "id": "ddef1585ba2ee1be",
   "execution_count": 46
  },
  {
   "cell_type": "code",
   "outputs": [
    {
     "data": {
      "text/plain": "                                                text  target\n0  I'm off too bed. I gotta wake up hella early t...       0\n1  I havent been able to listen to it yet  My spe...       0\n2  now remembers why solving a relatively big equ...       0\n3                           Ate too much, feel sick        0\n4  Tried to purchase a parked domain through GoDa...       0",
      "text/html": "<div>\n<style scoped>\n    .dataframe tbody tr th:only-of-type {\n        vertical-align: middle;\n    }\n\n    .dataframe tbody tr th {\n        vertical-align: top;\n    }\n\n    .dataframe thead th {\n        text-align: right;\n    }\n</style>\n<table border=\"1\" class=\"dataframe\">\n  <thead>\n    <tr style=\"text-align: right;\">\n      <th></th>\n      <th>text</th>\n      <th>target</th>\n    </tr>\n  </thead>\n  <tbody>\n    <tr>\n      <th>0</th>\n      <td>I'm off too bed. I gotta wake up hella early t...</td>\n      <td>0</td>\n    </tr>\n    <tr>\n      <th>1</th>\n      <td>I havent been able to listen to it yet  My spe...</td>\n      <td>0</td>\n    </tr>\n    <tr>\n      <th>2</th>\n      <td>now remembers why solving a relatively big equ...</td>\n      <td>0</td>\n    </tr>\n    <tr>\n      <th>3</th>\n      <td>Ate too much, feel sick</td>\n      <td>0</td>\n    </tr>\n    <tr>\n      <th>4</th>\n      <td>Tried to purchase a parked domain through GoDa...</td>\n      <td>0</td>\n    </tr>\n  </tbody>\n</table>\n</div>"
     },
     "execution_count": 47,
     "metadata": {},
     "output_type": "execute_result"
    }
   ],
   "source": [
    "sentiment_dataset = sentiment_dataset[[\"text\", \"target\"]]\n",
    "sentiment_dataset.head()"
   ],
   "metadata": {
    "collapsed": false,
    "ExecuteTime": {
     "end_time": "2025-05-18T19:30:17.466359Z",
     "start_time": "2025-05-18T19:30:17.453836Z"
    }
   },
   "id": "7cf15d9e9a5a3600",
   "execution_count": 47
  },
  {
   "cell_type": "code",
   "outputs": [],
   "source": [
    "sentiment_dataset.loc[sentiment_dataset['target']==4, 'target'] = 1\n",
    "sentiment_dataset.loc[sentiment_dataset['target']==0, 'target'] = 0\n",
    "\n"
   ],
   "metadata": {
    "collapsed": false,
    "ExecuteTime": {
     "end_time": "2025-05-18T19:30:17.477164Z",
     "start_time": "2025-05-18T19:30:17.467421Z"
    }
   },
   "id": "31e3b42f03ddd961",
   "execution_count": 48
  },
  {
   "cell_type": "code",
   "outputs": [],
   "source": [
    "sentiment_dataset = pd.concat([sentiment_dataset, hateful_dataset], ignore_index= True)"
   ],
   "metadata": {
    "collapsed": false,
    "ExecuteTime": {
     "end_time": "2025-05-18T19:30:17.490695Z",
     "start_time": "2025-05-18T19:30:17.480113Z"
    }
   },
   "id": "fd985d4d7970574c",
   "execution_count": 49
  },
  {
   "cell_type": "code",
   "outputs": [
    {
     "data": {
      "text/plain": "<seaborn.axisgrid.FacetGrid at 0x1d24d05cad0>"
     },
     "execution_count": 50,
     "metadata": {},
     "output_type": "execute_result"
    },
    {
     "data": {
      "text/plain": "<Figure size 511.111x500 with 1 Axes>",
      "image/png": "[encoded data removed]"
     },
     "metadata": {},
     "output_type": "display_data"
    }
   ],
   "source": [
    "sns.catplot(x = 'target', data = sentiment_dataset, kind = 'count')"
   ],
   "metadata": {
    "collapsed": false,
    "ExecuteTime": {
     "end_time": "2025-05-18T19:30:17.973293Z",
     "start_time": "2025-05-18T19:30:17.491637Z"
    }
   },
   "id": "85cfba99464a218f",
   "execution_count": 50
  },
  {
   "cell_type": "code",
   "outputs": [
    {
     "data": {
      "text/plain": "target\n2    60000\n1    59700\n0    59300\nName: count, dtype: int64"
     },
     "execution_count": 51,
     "metadata": {},
     "output_type": "execute_result"
    }
   ],
   "source": [
    "sentiment_dataset['target'].value_counts()\n"
   ],
   "metadata": {
    "collapsed": false,
    "ExecuteTime": {
     "end_time": "2025-05-18T19:30:17.985517Z",
     "start_time": "2025-05-18T19:30:17.975327Z"
    }
   },
   "id": "f5b1624ea8418ce2",
   "execution_count": 51
  },
  {
   "cell_type": "code",
   "outputs": [
    {
     "data": {
      "text/plain": "text      0\ntarget    0\ndtype: int64"
     },
     "execution_count": 52,
     "metadata": {},
     "output_type": "execute_result"
    }
   ],
   "source": [
    "sentiment_dataset.isnull().sum()"
   ],
   "metadata": {
    "collapsed": false,
    "ExecuteTime": {
     "end_time": "2025-05-18T19:30:18.001111Z",
     "start_time": "2025-05-18T19:30:17.986501Z"
    }
   },
   "id": "22103dab73e41832",
   "execution_count": 52
  },
  {
   "cell_type": "markdown",
   "source": [
    "SVM"
   ],
   "metadata": {
    "collapsed": false
   },
   "id": "d863186d38fc8049"
  },
  {
   "cell_type": "markdown",
   "source": [
    "The only parameter to set in SVM is the type of kernel. We are using the linear one, which is typically chosen for NLP tasks due to the high dimensionality and sparsity of text data."
   ],
   "metadata": {
    "collapsed": false
   },
   "id": "18cf3a7abd0e7512"
  },
  {
   "cell_type": "code",
   "outputs": [
    {
     "name": "stdout",
     "output_type": "stream",
     "text": [
      "Fold 1 - Acc: 0.8008 | Prec: 0.8005 | Rec: 0.8004 | F1: 0.8004\n",
      "Fold 2 - Acc: 0.7980 | Prec: 0.7973 | Rec: 0.7975 | F1: 0.7974\n",
      "Fold 3 - Acc: 0.7962 | Prec: 0.7957 | Rec: 0.7957 | F1: 0.7956\n",
      "Fold 4 - Acc: 0.8034 | Prec: 0.8027 | Rec: 0.8030 | F1: 0.8028\n",
      "Fold 5 - Acc: 0.7973 | Prec: 0.7969 | Rec: 0.7969 | F1: 0.7968\n",
      "\n",
      "--- Summary ---\n",
      "Mean Accuracy: 0.7991\n",
      "Mean Precision: 0.7986\n",
      "Mean Recall: 0.7987\n",
      "Mean F1-score: 0.7986\n"
     ]
    },
    {
     "data": {
      "text/plain": "<Figure size 800x600 with 2 Axes>",
      "image/png": "[encoded data removed]"
     },
     "metadata": {},
     "output_type": "display_data"
    }
   ],
   "source": [
    "X = sentiment_dataset['text']\n",
    "y = sentiment_dataset['target']\n",
    "\n",
    "accuracies = []\n",
    "precisions = []\n",
    "recalls = []\n",
    "f1s = []\n",
    "\n",
    "y_true_all = []\n",
    "y_pred_all = []\n",
    "\n",
    "\n",
    "pipeline = Pipeline([\n",
    "    ('tfidf', TfidfVectorizer(stop_words='english')),\n",
    "    ('svc', LinearSVC())\n",
    "])\n",
    "\n",
    "skf = StratifiedKFold(n_splits=5, shuffle=True, random_state=42)\n",
    "\n",
    "# 5-fold stratified cross-validation\n",
    "for fold, (train_idx, test_idx) in enumerate(skf.split(X, y)):\n",
    "    X_train, X_test = X.iloc[train_idx], X.iloc[test_idx]\n",
    "    y_train, y_test = y.iloc[train_idx], y.iloc[test_idx]\n",
    "\n",
    "    pipeline.fit(X_train, y_train)\n",
    "    y_pred = pipeline.predict(X_test)\n",
    "\n",
    "    acc = accuracy_score(y_test, y_pred)\n",
    "    prec = precision_score(y_test, y_pred, average='macro', zero_division=0)\n",
    "    rec = recall_score(y_test, y_pred, average='macro', zero_division=0)\n",
    "    f1 = f1_score(y_test, y_pred, average='macro', zero_division=0)\n",
    "\n",
    "    accuracies.append(acc)\n",
    "    precisions.append(prec)\n",
    "    recalls.append(rec)\n",
    "    f1s.append(f1)\n",
    "\n",
    "    print(f\"Fold {fold+1} - Acc: {acc:.4f} | Prec: {prec:.4f} | Rec: {rec:.4f} | F1: {f1:.4f}\")\n",
    "    \n",
    "    y_true_all.extend(y_test)\n",
    "    y_pred_all.extend(y_pred)\n",
    "\n",
    "print(\"\\n--- Summary ---\")\n",
    "print(f\"Mean Accuracy: {np.mean(accuracies):.4f}\")\n",
    "print(f\"Mean Precision: {np.mean(precisions):.4f}\")\n",
    "print(f\"Mean Recall: {np.mean(recalls):.4f}\")\n",
    "print(f\"Mean F1-score: {np.mean(f1s):.4f}\")\n",
    "\n",
    "final_cm = confusion_matrix(y_true_all, y_pred_all)\n",
    "\n",
    "plt.figure(figsize=(8, 6))\n",
    "sns.heatmap(final_cm, annot=True, fmt='d', cmap='Blues',\n",
    "            xticklabels=['Class 0', 'Class 1', 'Class 2'],\n",
    "            yticklabels=['Class 0', 'Class 1', 'Class 2'])\n",
    "plt.xlabel('Predicted')\n",
    "plt.ylabel('True')\n",
    "plt.title('Final Confusion Matrix – All Folds Combined')\n",
    "plt.tight_layout()\n",
    "plt.show()"
   ],
   "metadata": {
    "collapsed": false,
    "ExecuteTime": {
     "end_time": "2025-05-18T19:30:53.052875Z",
     "start_time": "2025-05-18T19:30:18.002250Z"
    }
   },
   "id": "172d55f11cbeb1f4",
   "execution_count": 53
  },
  {
   "cell_type": "markdown",
   "source": [
    "Saving metric results"
   ],
   "metadata": {
    "collapsed": false
   },
   "id": "b02ea48c19817ea9"
  },
  {
   "cell_type": "code",
   "outputs": [
    {
     "name": "stdout",
     "output_type": "stream",
     "text": [
      " accuracy  precision  recall     f1\n",
      "   0.8008     0.8005  0.8004 0.8004\n",
      "   0.7980     0.7973  0.7975 0.7974\n",
      "   0.7962     0.7957  0.7957 0.7956\n",
      "   0.8034     0.8027  0.8030 0.8028\n",
      "   0.7973     0.7969  0.7969 0.7968\n"
     ]
    }
   ],
   "source": [
    "svm_df = pd.DataFrame({\n",
    "    'accuracy': accuracies,\n",
    "    'precision': precisions,\n",
    "    'recall': recalls,\n",
    "    'f1': f1s,\n",
    "})\n",
    "\n",
    "print(svm_df.round(4).to_string(index=False))\n",
    "\n",
    "svm_df.to_csv(\"svm_fold_metrics.csv\", index=False)\n"
   ],
   "metadata": {
    "collapsed": false,
    "ExecuteTime": {
     "end_time": "2025-05-18T19:30:53.063777Z",
     "start_time": "2025-05-18T19:30:53.053856Z"
    }
   },
   "id": "330348f570ae141d",
   "execution_count": 54
  },
  {
   "cell_type": "markdown",
   "source": [],
   "metadata": {
    "collapsed": false
   },
   "id": "a86f91c4b2cedcfa"
  }
 ],
 "metadata": {
  "kernelspec": {
   "display_name": "Python 3",
   "language": "python",
   "name": "python3"
  },
  "language_info": {
   "codemirror_mode": {
    "name": "ipython",
    "version": 2
   },
   "file_extension": ".py",
   "mimetype": "text/x-python",
   "name": "python",
   "nbconvert_exporter": "python",
   "pygments_lexer": "ipython2",
   "version": "2.7.6"
  }
 },
 "nbformat": 4,
 "nbformat_minor": 5
}
