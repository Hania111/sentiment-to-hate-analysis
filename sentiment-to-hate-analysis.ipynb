{
 "cells": [
  {
   "cell_type": "code",
   "execution_count": 158,
   "id": "initial_id",
   "metadata": {
    "collapsed": true,
    "ExecuteTime": {
     "end_time": "2025-05-04T20:19:12.734149Z",
     "start_time": "2025-05-04T20:19:12.729124Z"
    }
   },
   "outputs": [],
   "source": [
    "import numpy as np\n",
    "import pandas as pd\n",
    "import matplotlib.pyplot as plt\n",
    "import seaborn as sns"
   ]
  },
  {
   "cell_type": "code",
   "outputs": [],
   "source": [
    "sentiment_dataset = pd.read_csv(\"Sentiment140_filtered.csv\")"
   ],
   "metadata": {
    "collapsed": false,
    "ExecuteTime": {
     "end_time": "2025-05-04T20:19:13.205959Z",
     "start_time": "2025-05-04T20:19:12.745373Z"
    }
   },
   "id": "4ca8407e36490c18",
   "execution_count": 159
  },
  {
   "cell_type": "code",
   "outputs": [
    {
     "data": {
      "text/plain": "   Unnamed: 0  target         ids                          date      flag  \\\n0         750       0  1467998601  Mon Apr 06 23:11:18 PDT 2009  NO_QUERY   \n1      766711       0  2300049112  Tue Jun 23 13:40:12 PDT 2009  NO_QUERY   \n2      285055       0  1993474319  Mon Jun 01 10:26:09 PDT 2009  NO_QUERY   \n3      705995       0  2256551006  Sat Jun 20 12:56:51 PDT 2009  NO_QUERY   \n4      379611       0  2052381070  Sat Jun 06 00:32:23 PDT 2009  NO_QUERY   \n\n             user                                               text  \\\n0         Young_J  I'm off too bed. I gotta wake up hella early t...   \n1   dougnawoschik  I havent been able to listen to it yet  My spe...   \n2        thireven  now remembers why solving a relatively big equ...   \n3  taracollins086                           Ate too much, feel sick    \n4  Portablemonkey  Tried to purchase a parked domain through GoDa...   \n\n   hate_pred  \n0          1  \n1          1  \n2          1  \n3          1  \n4          1  ",
      "text/html": "<div>\n<style scoped>\n    .dataframe tbody tr th:only-of-type {\n        vertical-align: middle;\n    }\n\n    .dataframe tbody tr th {\n        vertical-align: top;\n    }\n\n    .dataframe thead th {\n        text-align: right;\n    }\n</style>\n<table border=\"1\" class=\"dataframe\">\n  <thead>\n    <tr style=\"text-align: right;\">\n      <th></th>\n      <th>Unnamed: 0</th>\n      <th>target</th>\n      <th>ids</th>\n      <th>date</th>\n      <th>flag</th>\n      <th>user</th>\n      <th>text</th>\n      <th>hate_pred</th>\n    </tr>\n  </thead>\n  <tbody>\n    <tr>\n      <th>0</th>\n      <td>750</td>\n      <td>0</td>\n      <td>1467998601</td>\n      <td>Mon Apr 06 23:11:18 PDT 2009</td>\n      <td>NO_QUERY</td>\n      <td>Young_J</td>\n      <td>I'm off too bed. I gotta wake up hella early t...</td>\n      <td>1</td>\n    </tr>\n    <tr>\n      <th>1</th>\n      <td>766711</td>\n      <td>0</td>\n      <td>2300049112</td>\n      <td>Tue Jun 23 13:40:12 PDT 2009</td>\n      <td>NO_QUERY</td>\n      <td>dougnawoschik</td>\n      <td>I havent been able to listen to it yet  My spe...</td>\n      <td>1</td>\n    </tr>\n    <tr>\n      <th>2</th>\n      <td>285055</td>\n      <td>0</td>\n      <td>1993474319</td>\n      <td>Mon Jun 01 10:26:09 PDT 2009</td>\n      <td>NO_QUERY</td>\n      <td>thireven</td>\n      <td>now remembers why solving a relatively big equ...</td>\n      <td>1</td>\n    </tr>\n    <tr>\n      <th>3</th>\n      <td>705995</td>\n      <td>0</td>\n      <td>2256551006</td>\n      <td>Sat Jun 20 12:56:51 PDT 2009</td>\n      <td>NO_QUERY</td>\n      <td>taracollins086</td>\n      <td>Ate too much, feel sick</td>\n      <td>1</td>\n    </tr>\n    <tr>\n      <th>4</th>\n      <td>379611</td>\n      <td>0</td>\n      <td>2052381070</td>\n      <td>Sat Jun 06 00:32:23 PDT 2009</td>\n      <td>NO_QUERY</td>\n      <td>Portablemonkey</td>\n      <td>Tried to purchase a parked domain through GoDa...</td>\n      <td>1</td>\n    </tr>\n  </tbody>\n</table>\n</div>"
     },
     "execution_count": 160,
     "metadata": {},
     "output_type": "execute_result"
    }
   ],
   "source": [
    "sentiment_dataset.head()"
   ],
   "metadata": {
    "collapsed": false,
    "ExecuteTime": {
     "end_time": "2025-05-04T20:19:13.222411Z",
     "start_time": "2025-05-04T20:19:13.209152Z"
    }
   },
   "id": "2f1dd2dbdf041af7",
   "execution_count": 160
  },
  {
   "cell_type": "code",
   "outputs": [
    {
     "data": {
      "text/plain": "Unnamed: 0    0\ntarget        0\nids           0\ndate          0\nflag          0\nuser          0\ntext          0\nhate_pred     0\ndtype: int64"
     },
     "execution_count": 161,
     "metadata": {},
     "output_type": "execute_result"
    }
   ],
   "source": [
    "sentiment_dataset.isnull().sum()"
   ],
   "metadata": {
    "collapsed": false,
    "ExecuteTime": {
     "end_time": "2025-05-04T20:19:13.260621Z",
     "start_time": "2025-05-04T20:19:13.225607Z"
    }
   },
   "id": "cd33133fa12ada83",
   "execution_count": 161
  },
  {
   "cell_type": "code",
   "outputs": [
    {
     "data": {
      "text/plain": "<seaborn.axisgrid.FacetGrid at 0x2a216d80150>"
     },
     "execution_count": 162,
     "metadata": {},
     "output_type": "execute_result"
    },
    {
     "data": {
      "text/plain": "<Figure size 511.111x500 with 1 Axes>",
      "image/png": "[encoded data removed]"
     },
     "metadata": {},
     "output_type": "display_data"
    }
   ],
   "source": [
    "sns.catplot(x = 'target', data = sentiment_dataset, kind = 'count')\n"
   ],
   "metadata": {
    "collapsed": false,
    "ExecuteTime": {
     "end_time": "2025-05-04T20:19:13.716780Z",
     "start_time": "2025-05-04T20:19:13.263712Z"
    }
   },
   "id": "208569a0a3f56969",
   "execution_count": 162
  },
  {
   "cell_type": "code",
   "outputs": [],
   "source": [
    "hateful_dataset = pd.read_csv(\"hateful_sentiment.csv\")"
   ],
   "metadata": {
    "collapsed": false,
    "ExecuteTime": {
     "end_time": "2025-05-04T20:19:14.129679Z",
     "start_time": "2025-05-04T20:19:13.717886Z"
    }
   },
   "id": "5f9664a800f1f89",
   "execution_count": 163
  },
  {
   "cell_type": "code",
   "outputs": [
    {
     "data": {
      "text/plain": "                                             Content  Label  \\\n0  retweet to the rejects who constantly call my ...      1   \n1  i purpose that whatever attack everyone who ca...      1   \n2  are you fucking kidding me you deserve to fuck...      1   \n3  retweet i am not racist and i am not sexist i ...      1   \n4  just imagine if the two million spent on the s...      1   \n\n                                         Content_int  \n0  [146715, 1761, 7, 3, 22587, 67, 6768, 472, 129...  \n1  [146715, 80, 4226, 28, 220, 1347, 1568, 67, 65...  \n2  [146715, 154, 26, 69, 1361, 78, 26, 6610, 7, 6...  \n3  [146715, 1761, 80, 81, 76, 1723, 111, 80, 81, ...  \n4  [146715, 14, 925, 204, 3, 672, 462, 5271, 9, 3...  ",
      "text/html": "<div>\n<style scoped>\n    .dataframe tbody tr th:only-of-type {\n        vertical-align: middle;\n    }\n\n    .dataframe tbody tr th {\n        vertical-align: top;\n    }\n\n    .dataframe thead th {\n        text-align: right;\n    }\n</style>\n<table border=\"1\" class=\"dataframe\">\n  <thead>\n    <tr style=\"text-align: right;\">\n      <th></th>\n      <th>Content</th>\n      <th>Label</th>\n      <th>Content_int</th>\n    </tr>\n  </thead>\n  <tbody>\n    <tr>\n      <th>0</th>\n      <td>retweet to the rejects who constantly call my ...</td>\n      <td>1</td>\n      <td>[146715, 1761, 7, 3, 22587, 67, 6768, 472, 129...</td>\n    </tr>\n    <tr>\n      <th>1</th>\n      <td>i purpose that whatever attack everyone who ca...</td>\n      <td>1</td>\n      <td>[146715, 80, 4226, 28, 220, 1347, 1568, 67, 65...</td>\n    </tr>\n    <tr>\n      <th>2</th>\n      <td>are you fucking kidding me you deserve to fuck...</td>\n      <td>1</td>\n      <td>[146715, 154, 26, 69, 1361, 78, 26, 6610, 7, 6...</td>\n    </tr>\n    <tr>\n      <th>3</th>\n      <td>retweet i am not racist and i am not sexist i ...</td>\n      <td>1</td>\n      <td>[146715, 1761, 80, 81, 76, 1723, 111, 80, 81, ...</td>\n    </tr>\n    <tr>\n      <th>4</th>\n      <td>just imagine if the two million spent on the s...</td>\n      <td>1</td>\n      <td>[146715, 14, 925, 204, 3, 672, 462, 5271, 9, 3...</td>\n    </tr>\n  </tbody>\n</table>\n</div>"
     },
     "execution_count": 164,
     "metadata": {},
     "output_type": "execute_result"
    }
   ],
   "source": [
    "hateful_dataset.head()"
   ],
   "metadata": {
    "collapsed": false,
    "ExecuteTime": {
     "end_time": "2025-05-04T20:19:14.150960Z",
     "start_time": "2025-05-04T20:19:14.133845Z"
    }
   },
   "id": "dca7580ded022803",
   "execution_count": 164
  },
  {
   "cell_type": "code",
   "outputs": [
    {
     "data": {
      "text/plain": "                                                text target\n0  retweet to the rejects who constantly call my ...      3\n1  i purpose that whatever attack everyone who ca...      3\n2  are you fucking kidding me you deserve to fuck...      3\n3  retweet i am not racist and i am not sexist i ...      3\n4  just imagine if the two million spent on the s...      3",
      "text/html": "<div>\n<style scoped>\n    .dataframe tbody tr th:only-of-type {\n        vertical-align: middle;\n    }\n\n    .dataframe tbody tr th {\n        vertical-align: top;\n    }\n\n    .dataframe thead th {\n        text-align: right;\n    }\n</style>\n<table border=\"1\" class=\"dataframe\">\n  <thead>\n    <tr style=\"text-align: right;\">\n      <th></th>\n      <th>text</th>\n      <th>target</th>\n    </tr>\n  </thead>\n  <tbody>\n    <tr>\n      <th>0</th>\n      <td>retweet to the rejects who constantly call my ...</td>\n      <td>3</td>\n    </tr>\n    <tr>\n      <th>1</th>\n      <td>i purpose that whatever attack everyone who ca...</td>\n      <td>3</td>\n    </tr>\n    <tr>\n      <th>2</th>\n      <td>are you fucking kidding me you deserve to fuck...</td>\n      <td>3</td>\n    </tr>\n    <tr>\n      <th>3</th>\n      <td>retweet i am not racist and i am not sexist i ...</td>\n      <td>3</td>\n    </tr>\n    <tr>\n      <th>4</th>\n      <td>just imagine if the two million spent on the s...</td>\n      <td>3</td>\n    </tr>\n  </tbody>\n</table>\n</div>"
     },
     "execution_count": 165,
     "metadata": {},
     "output_type": "execute_result"
    }
   ],
   "source": [
    "hateful_dataset = hateful_dataset[[\"Content\", \"Label\"]]\n",
    "hateful_dataset = hateful_dataset.rename(columns = {\"Content\": \"text\", \"Label\": \"target\"})\n",
    "hateful_dataset[\"target\"] = \"3\"\n",
    "\n",
    "hateful_dataset.head()"
   ],
   "metadata": {
    "collapsed": false,
    "ExecuteTime": {
     "end_time": "2025-05-04T20:19:14.172134Z",
     "start_time": "2025-05-04T20:19:14.152290Z"
    }
   },
   "id": "ddef1585ba2ee1be",
   "execution_count": 165
  },
  {
   "cell_type": "code",
   "outputs": [
    {
     "data": {
      "text/plain": "                                                text  target\n0  I'm off too bed. I gotta wake up hella early t...       0\n1  I havent been able to listen to it yet  My spe...       0\n2  now remembers why solving a relatively big equ...       0\n3                           Ate too much, feel sick        0\n4  Tried to purchase a parked domain through GoDa...       0",
      "text/html": "<div>\n<style scoped>\n    .dataframe tbody tr th:only-of-type {\n        vertical-align: middle;\n    }\n\n    .dataframe tbody tr th {\n        vertical-align: top;\n    }\n\n    .dataframe thead th {\n        text-align: right;\n    }\n</style>\n<table border=\"1\" class=\"dataframe\">\n  <thead>\n    <tr style=\"text-align: right;\">\n      <th></th>\n      <th>text</th>\n      <th>target</th>\n    </tr>\n  </thead>\n  <tbody>\n    <tr>\n      <th>0</th>\n      <td>I'm off too bed. I gotta wake up hella early t...</td>\n      <td>0</td>\n    </tr>\n    <tr>\n      <th>1</th>\n      <td>I havent been able to listen to it yet  My spe...</td>\n      <td>0</td>\n    </tr>\n    <tr>\n      <th>2</th>\n      <td>now remembers why solving a relatively big equ...</td>\n      <td>0</td>\n    </tr>\n    <tr>\n      <th>3</th>\n      <td>Ate too much, feel sick</td>\n      <td>0</td>\n    </tr>\n    <tr>\n      <th>4</th>\n      <td>Tried to purchase a parked domain through GoDa...</td>\n      <td>0</td>\n    </tr>\n  </tbody>\n</table>\n</div>"
     },
     "execution_count": 166,
     "metadata": {},
     "output_type": "execute_result"
    }
   ],
   "source": [
    "sentiment_dataset = sentiment_dataset[[\"text\", \"target\"]]\n",
    "sentiment_dataset.head()"
   ],
   "metadata": {
    "collapsed": false,
    "ExecuteTime": {
     "end_time": "2025-05-04T20:19:14.188651Z",
     "start_time": "2025-05-04T20:19:14.174212Z"
    }
   },
   "id": "7cf15d9e9a5a3600",
   "execution_count": 166
  },
  {
   "cell_type": "code",
   "outputs": [],
   "source": [
    "sentiment_dataset.loc[sentiment_dataset['target']==4, 'target'] = 2\n",
    "sentiment_dataset.loc[sentiment_dataset['target']==0, 'target'] = 1\n",
    "# 1 - negative, 2 - positive, 3 - hateful\n"
   ],
   "metadata": {
    "collapsed": false,
    "ExecuteTime": {
     "end_time": "2025-05-04T20:19:14.200144Z",
     "start_time": "2025-05-04T20:19:14.190808Z"
    }
   },
   "id": "31e3b42f03ddd961",
   "execution_count": 167
  },
  {
   "cell_type": "code",
   "outputs": [],
   "source": [
    "sentiment_dataset = pd.concat([sentiment_dataset, hateful_dataset], ignore_index= True)"
   ],
   "metadata": {
    "collapsed": false,
    "ExecuteTime": {
     "end_time": "2025-05-04T20:19:14.214782Z",
     "start_time": "2025-05-04T20:19:14.203113Z"
    }
   },
   "id": "fd985d4d7970574c",
   "execution_count": 168
  },
  {
   "cell_type": "code",
   "outputs": [
    {
     "data": {
      "text/plain": "                                                text target\n0  I'm off too bed. I gotta wake up hella early t...      1\n1  I havent been able to listen to it yet  My spe...      1\n2  now remembers why solving a relatively big equ...      1\n3                           Ate too much, feel sick       1\n4  Tried to purchase a parked domain through GoDa...      1",
      "text/html": "<div>\n<style scoped>\n    .dataframe tbody tr th:only-of-type {\n        vertical-align: middle;\n    }\n\n    .dataframe tbody tr th {\n        vertical-align: top;\n    }\n\n    .dataframe thead th {\n        text-align: right;\n    }\n</style>\n<table border=\"1\" class=\"dataframe\">\n  <thead>\n    <tr style=\"text-align: right;\">\n      <th></th>\n      <th>text</th>\n      <th>target</th>\n    </tr>\n  </thead>\n  <tbody>\n    <tr>\n      <th>0</th>\n      <td>I'm off too bed. I gotta wake up hella early t...</td>\n      <td>1</td>\n    </tr>\n    <tr>\n      <th>1</th>\n      <td>I havent been able to listen to it yet  My spe...</td>\n      <td>1</td>\n    </tr>\n    <tr>\n      <th>2</th>\n      <td>now remembers why solving a relatively big equ...</td>\n      <td>1</td>\n    </tr>\n    <tr>\n      <th>3</th>\n      <td>Ate too much, feel sick</td>\n      <td>1</td>\n    </tr>\n    <tr>\n      <th>4</th>\n      <td>Tried to purchase a parked domain through GoDa...</td>\n      <td>1</td>\n    </tr>\n  </tbody>\n</table>\n</div>"
     },
     "execution_count": 169,
     "metadata": {},
     "output_type": "execute_result"
    }
   ],
   "source": [
    "sentiment_dataset.head()"
   ],
   "metadata": {
    "collapsed": false,
    "ExecuteTime": {
     "end_time": "2025-05-04T20:19:14.226432Z",
     "start_time": "2025-05-04T20:19:14.216844Z"
    }
   },
   "id": "75755888f98893f0",
   "execution_count": 169
  },
  {
   "cell_type": "code",
   "outputs": [
    {
     "data": {
      "text/plain": "<seaborn.axisgrid.FacetGrid at 0x2a212058150>"
     },
     "execution_count": 170,
     "metadata": {},
     "output_type": "execute_result"
    },
    {
     "data": {
      "text/plain": "<Figure size 511.111x500 with 1 Axes>",
      "image/png": "[encoded data removed]"
     },
     "metadata": {},
     "output_type": "display_data"
    }
   ],
   "source": [
    "sns.catplot(x = 'target', data = sentiment_dataset, kind = 'count')"
   ],
   "metadata": {
    "collapsed": false,
    "ExecuteTime": {
     "end_time": "2025-05-04T20:19:15.032941Z",
     "start_time": "2025-05-04T20:19:14.228434Z"
    }
   },
   "id": "85cfba99464a218f",
   "execution_count": 170
  },
  {
   "cell_type": "code",
   "outputs": [
    {
     "data": {
      "text/plain": "target\n3    60000\n2    59700\n1    59300\nName: count, dtype: int64"
     },
     "execution_count": 171,
     "metadata": {},
     "output_type": "execute_result"
    }
   ],
   "source": [
    "sentiment_dataset['target'].value_counts()\n"
   ],
   "metadata": {
    "collapsed": false,
    "ExecuteTime": {
     "end_time": "2025-05-04T20:19:15.050820Z",
     "start_time": "2025-05-04T20:19:15.034012Z"
    }
   },
   "id": "f5b1624ea8418ce2",
   "execution_count": 171
  },
  {
   "cell_type": "code",
   "outputs": [
    {
     "data": {
      "text/plain": "text      0\ntarget    0\ndtype: int64"
     },
     "execution_count": 172,
     "metadata": {},
     "output_type": "execute_result"
    }
   ],
   "source": [
    "sentiment_dataset.isnull().sum()"
   ],
   "metadata": {
    "collapsed": false,
    "ExecuteTime": {
     "end_time": "2025-05-04T20:19:15.081489Z",
     "start_time": "2025-05-04T20:19:15.051908Z"
    }
   },
   "id": "22103dab73e41832",
   "execution_count": 172
  }
 ],
 "metadata": {
  "kernelspec": {
   "display_name": "Python 3",
   "language": "python",
   "name": "python3"
  },
  "language_info": {
   "codemirror_mode": {
    "name": "ipython",
    "version": 2
   },
   "file_extension": ".py",
   "mimetype": "text/x-python",
   "name": "python",
   "nbconvert_exporter": "python",
   "pygments_lexer": "ipython2",
   "version": "2.7.6"
  }
 },
 "nbformat": 4,
 "nbformat_minor": 5
}
